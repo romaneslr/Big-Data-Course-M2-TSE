{
 "cells": [
  {
   "cell_type": "markdown",
   "metadata": {
    "colab_type": "text",
    "id": "UsbuB0aetRGj"
   },
   "source": [
    "# Notebook 1: Python Overview\n",
    "\n",
    "## Motivations\n",
    "\n",
    "Spark provides multiple *Application Programming Interfaces* (API), i.e. the interface allowing the user to interact with the application. The main APIs are [Scala](http://spark.apache.org/docs/latest/api/scala/index.html#org.apache.spark.package) and [Java](http://spark.apache.org/docs/latest/api/java/index.html) APIs, as Spark is implemented in Scala and runs on the Java Virtual Machine (JVM).\n",
    "Since the 0.7.0 version, a [Python API](http://spark.apache.org/docs/latest/api/python/index.html) is available, also known as PySpark. An [R API](http://spark.apache.org/docs/latest/api/R/index.html) has been released with 1.5.0 version. During this course, you will be using Spark 2.4.4.\n",
    "\n",
    "Throughout this course we will use the Python API for the following reasons:\n",
    "- R API is still too young and limited to be relied on. Besides, R can quickly become a living hell when using immature libraries.\n",
    "- Many of you are wanabee datascientists, and Python is a must-know language in data industry.\n",
    "- Scala and Java APIs would have been quite hard to learn given the length of the course and your actual programming skills.\n",
    "- Python is easy to learn, and even easier if you are already familiar with R.\n",
    "\n",
    "The goal of this session is to teach (or remind) you the syntax of basic operations, control structures and declarations in Python that will be useful as datascientist. Keep in mind that we do not have a lot of time, and that you should be able to create functions and classes and to manipulate them at the end of the lab. If you don't get that, the rest of the course will be hard to follow. Don't hesitate to ask for explanations and/or more exercises if you don't feel  confident enough at the end of the lab.\n",
    "\n",
    "**Note:** Python comes in two flavours, Python 2 and Python 3. Python 2 is now officially deprecated so there is no longer any support. However, a lot of companies have still a lot of code in Python 2 (Tensorflow only supports python 3 since 2019 and Google is well known for his extensive use of Python 2). In this course, we will use Python 3 rather than Python 2. Note that if you know Python 2, learning Python 3 will be lightning-fast.\n",
    "For those who are interested, you can quickly learn Python 3 syntax [over here](https://learnxinyminutes.com/docs/python3/) or find some [cheatsheets](http://ptgmedia.pearsoncmg.com/imprint_downloads/informit/promotions/python/python2python3.pdf) highlighting the differences between the two versions. Spark Python API is compatible with Python 3 since Spark 1.4.0.\n",
    "\n",
    "When you look at stackoverflow, please be aware that they might share snippets of code in another python version and that you might need to translate them. So no stupid copy-paste.\n",
    "\n",
    "*This introduction relies on [Learn Python in Y minutes](https://learnxinyminutes.com/docs/python/)*\n",
    "\n",
    "## Introduction\n",
    "\n",
    "Python is a high level, general-purpose interpreted language. Python is meant to be very concise and readable, it is thus a very pleasant language to work with. \n",
    "\n",
    "## 1. Primitive Datatypes and Operators\n",
    "Read section 1 of [Learn python in Y Minutes](https://learnxinyminutes.com/docs/python/) (if you already know Python, you can skip this step). Then, replace `???` in the following cells with your code to answer the questions. To get started, please run the following cell."
   ]
  },
  {
   "cell_type": "markdown",
   "metadata": {
    "colab_type": "text",
    "id": "xaJAXdwatRHB"
   },
   "source": [
    "Compute 4 + 8"
   ]
  },
  {
   "cell_type": "code",
   "execution_count": 1,
   "metadata": {
    "colab": {
     "base_uri": "https://localhost:8080/",
     "height": 35
    },
    "colab_type": "code",
    "id": "kxvDBoUltRHD",
    "outputId": "d5645804-2966-45d7-a4fd-5d6f5c45688b"
   },
   "outputs": [
    {
     "data": {
      "text/plain": [
       "12"
      ]
     },
     "execution_count": 1,
     "metadata": {},
     "output_type": "execute_result"
    }
   ],
   "source": [
    "4+8"
   ]
  },
  {
   "cell_type": "markdown",
   "metadata": {
    "colab_type": "text",
    "id": "uumGlRjUtRHQ"
   },
   "source": [
    "Compute 4 * 8"
   ]
  },
  {
   "cell_type": "code",
   "execution_count": 2,
   "metadata": {
    "colab": {
     "base_uri": "https://localhost:8080/",
     "height": 35
    },
    "colab_type": "code",
    "id": "V88uqJeatRHS",
    "outputId": "84f133fa-e6ae-4d06-8570-3139b4a766d9"
   },
   "outputs": [
    {
     "data": {
      "text/plain": [
       "32"
      ]
     },
     "execution_count": 2,
     "metadata": {},
     "output_type": "execute_result"
    }
   ],
   "source": [
    "4*8"
   ]
  },
  {
   "cell_type": "markdown",
   "metadata": {
    "colab_type": "text",
    "id": "iFsOahCatRHd"
   },
   "source": [
    "Compute 4 / 8 (using the regular division operation, not integer division)"
   ]
  },
  {
   "cell_type": "code",
   "execution_count": 3,
   "metadata": {
    "colab": {
     "base_uri": "https://localhost:8080/",
     "height": 35
    },
    "colab_type": "code",
    "id": "TolXN7L5tRHg",
    "outputId": "bd96aec2-3383-4f5f-e5b7-714eb971ee55"
   },
   "outputs": [
    {
     "data": {
      "text/plain": [
       "0.5"
      ]
     },
     "execution_count": 3,
     "metadata": {},
     "output_type": "execute_result"
    }
   ],
   "source": [
    "4/8"
   ]
  },
  {
   "cell_type": "markdown",
   "metadata": {},
   "source": [
    "Compute $4^8$"
   ]
  },
  {
   "cell_type": "code",
   "execution_count": 6,
   "metadata": {},
   "outputs": [
    {
     "data": {
      "text/plain": [
       "65536"
      ]
     },
     "execution_count": 6,
     "metadata": {},
     "output_type": "execute_result"
    }
   ],
   "source": [
    "4**8"
   ]
  },
  {
   "cell_type": "markdown",
   "metadata": {
    "colab_type": "text",
    "id": "BDOxUKpjtRHy"
   },
   "source": [
    "Check if the variable `foo` is None:"
   ]
  },
  {
   "cell_type": "code",
   "execution_count": 127,
   "metadata": {
    "colab": {},
    "colab_type": "code",
    "id": "1KIB_tlwtRH0",
    "outputId": "788950b3-c099-4dd9-96a7-f2868f3235a3"
   },
   "outputs": [
    {
     "data": {
      "text/plain": [
       "True"
      ]
     },
     "execution_count": 127,
     "metadata": {},
     "output_type": "execute_result"
    }
   ],
   "source": [
    "foo = None\n",
    "foo==None"
   ]
  },
  {
   "cell_type": "markdown",
   "metadata": {
    "colab_type": "text",
    "collapsed": true,
    "id": "t1lgdo-BtRH-"
   },
   "source": [
    "## 2. Variables and Collections\n",
    "Same as before, read the corresponding section, and answer the questions below.\n",
    "\n",
    "Now you're asked to `print` your results instead of just output them.\n",
    "\n",
    "Please always remember that there is a difference between the output of your code (which is the result of the last executed line) and the printed output."
   ]
  },
  {
   "cell_type": "code",
   "execution_count": 11,
   "metadata": {},
   "outputs": [
    {
     "name": "stdout",
     "output_type": "stream",
     "text": [
      "This is a text\n"
     ]
    }
   ],
   "source": [
    "txt = \"This is a text\"\n",
    "print(txt)\n",
    "new_txt = \"This is another text\"\n",
    "# assignment doesn't return anything\n",
    "# Try uncommenting the following lines to check your understanding\n",
    "# txt # return the value of txt\n",
    "# new_txt # return the value of new_txt"
   ]
  },
  {
   "cell_type": "code",
   "execution_count": 13,
   "metadata": {
    "colab": {},
    "colab_type": "code",
    "id": "4HRJAJZTtRH_",
    "outputId": "39be232d-5110-48b0-ad3a-e7e923994acb"
   },
   "outputs": [
    {
     "name": "stdout",
     "output_type": "stream",
     "text": [
      "8\n"
     ]
    }
   ],
   "source": [
    "# Declare a variable containing a float of your choice and print it\n",
    "# From now on, when you will be asked to print something, please use the print statement.\n",
    "a=8\n",
    "print(a)"
   ]
  },
  {
   "cell_type": "code",
   "execution_count": 46,
   "metadata": {
    "colab": {},
    "colab_type": "code",
    "id": "baIJHJcytRIF",
    "outputId": "4db5c7b2-0440-4e0f-c225-4e3cf976360c"
   },
   "outputs": [
    {
     "name": "stdout",
     "output_type": "stream",
     "text": [
      "['string1', 'string2', 'string3', 'string4', 1]\n"
     ]
    }
   ],
   "source": [
    "# Create a list containing strings and store it in a variable\n",
    "bar=[\"string1\",\"string2\",\"string3\"]\n",
    "# Append a new string to this list\n",
    "bar.append(\"string4\")\n",
    "# Append an integer to this list and print it\n",
    "bar.append(1)\n",
    "print(bar)"
   ]
  },
  {
   "cell_type": "markdown",
   "metadata": {
    "colab_type": "text",
    "id": "JvyO8q5AtRIM"
   },
   "source": [
    "Note that the modifications on list objects are performed inplace, i.e.\n",
    "\n",
    "    li = [1, 2, 3]\n",
    "    li.append(4)\n",
    "    li  # => [1, 2, 3, 4]"
   ]
  },
  {
   "cell_type": "code",
   "execution_count": 47,
   "metadata": {
    "colab": {},
    "colab_type": "code",
    "id": "aY3ZCgaKtRIO"
   },
   "outputs": [
    {
     "name": "stdout",
     "output_type": "stream",
     "text": [
      "['string1', 'string2', 'string3', 'string4']\n"
     ]
    }
   ],
   "source": [
    "# Mixing types inside a list object can be a bad idea depending on the situation.\n",
    "# Remove the integer you just inserted in the list and print it\n",
    "del bar[-1]\n",
    "print(bar)"
   ]
  },
  {
   "cell_type": "code",
   "execution_count": 48,
   "metadata": {
    "colab": {},
    "colab_type": "code",
    "id": "ZZj4QAb7tRIU"
   },
   "outputs": [
    {
     "name": "stdout",
     "output_type": "stream",
     "text": [
      "string2\n"
     ]
    }
   ],
   "source": [
    "# Print the second element of the list\n",
    "print(bar[1])"
   ]
  },
  {
   "cell_type": "code",
   "execution_count": 62,
   "metadata": {},
   "outputs": [
    {
     "name": "stdout",
     "output_type": "stream",
     "text": [
      "43\n",
      "42\n"
     ]
    }
   ],
   "source": [
    "import math\n",
    "x = 42.567\n",
    "# Print x with only two decimal (rounding)\n",
    "print(round(x))\n",
    "# Print x with only two decimal (trunking)\n",
    "print(math.trunc(x))"
   ]
  },
  {
   "cell_type": "markdown",
   "metadata": {
    "colab_type": "text",
    "id": "_RKnEw4KtRIa"
   },
   "source": [
    "You can access list elements in reverse order, e.g.\n",
    "\n",
    "    li[-1]  # returns the last element of the list\n",
    "    li[-2]  # returns the second last element of the list\n",
    "    \n",
    "and so on..."
   ]
  },
  {
   "cell_type": "code",
   "execution_count": 50,
   "metadata": {
    "colab": {},
    "colab_type": "code",
    "id": "X15yEiSotRId"
   },
   "outputs": [
    {
     "name": "stdout",
     "output_type": "stream",
     "text": [
      "['string1', 'string2', 'string3', 'string4', 'We', 'are', 'the', 'knights', 'who', 'say', 'Ni', '!']\n"
     ]
    }
   ],
   "source": [
    "# Extend your list with new_list and print it\n",
    "new_list = [\"We\", \"are\", \"the\", \"knights\", \"who\", \"say\", \"Ni\", \"!\"]\n",
    "bar.extend(new_list)\n",
    "print(bar)"
   ]
  },
  {
   "cell_type": "code",
   "execution_count": 51,
   "metadata": {
    "colab": {},
    "colab_type": "code",
    "id": "i3k7EDdAtRIi"
   },
   "outputs": [
    {
     "name": "stdout",
     "output_type": "stream",
     "text": [
      "['string1', 'string2', 'string3', 'string4', 'We', 'are', 'the', 'knights', 'who', 'say', 'Ekke Ekke Ekke Ekke Ptang Zoo Boing', '!']\n"
     ]
    }
   ],
   "source": [
    "# Replace \"Ni\" by \"Ekke Ekke Ekke Ekke Ptang Zoo Boing\" in the list and print it\n",
    "bar = ['Ekke Ekke Ekke Ekke Ptang Zoo Boing' if item == 'Ni' else item for item in bar]\n",
    "print(bar)"
   ]
  },
  {
   "cell_type": "code",
   "execution_count": 53,
   "metadata": {
    "colab": {},
    "colab_type": "code",
    "id": "2HoKEtETtRIn"
   },
   "outputs": [
    {
     "data": {
      "text/plain": [
       "12"
      ]
     },
     "execution_count": 53,
     "metadata": {},
     "output_type": "execute_result"
    }
   ],
   "source": [
    "# Compute the length of the list and print it\n",
    "len(bar)"
   ]
  },
  {
   "cell_type": "code",
   "execution_count": null,
   "metadata": {
    "colab": {},
    "colab_type": "code",
    "id": "2ZziFC0QtRIt"
   },
   "outputs": [],
   "source": [
    "# What is the difference between lists and tuples?\n",
    "\"\"\"\n",
    "Tuples are immutable, whereas lists are mutable: once created, the tuple can not be changed, whereas once created,\n",
    "lists can be changed\n",
    "\"\"\""
   ]
  },
  {
   "cell_type": "code",
   "execution_count": 54,
   "metadata": {
    "colab": {},
    "colab_type": "code",
    "id": "B2zRHa3atRIx"
   },
   "outputs": [],
   "source": [
    "# Create a dictionary containing the following mapping:\n",
    "# \"one\" : 1\n",
    "# \"two\" : 2\n",
    "# etc. until you reach \"five\" : 5\n",
    "baz = {\"one\":1,\"two\":2, \"three\":3, \"four\":4, \"five\":5}"
   ]
  },
  {
   "cell_type": "code",
   "execution_count": 60,
   "metadata": {
    "colab": {},
    "colab_type": "code",
    "id": "c_Y6qcpUtRI3"
   },
   "outputs": [
    {
     "name": "stdout",
     "output_type": "stream",
     "text": [
      "4\n"
     ]
    }
   ],
   "source": [
    "# Check if the key \"four\" is contained in the dict\n",
    "# If four is contained in the dict, print the associated value\n",
    "if \"four\" in baz:\n",
    "    print(list(baz.values()).index(5))"
   ]
  },
  {
   "cell_type": "code",
   "execution_count": 63,
   "metadata": {
    "colab": {},
    "colab_type": "code",
    "id": "ECwOx4TJtRI9",
    "outputId": "e55aff22-b4cd-4b28-b817-57f788548d5e"
   },
   "outputs": [
    {
     "name": "stdout",
     "output_type": "stream",
     "text": [
      "['i', 'v', 'u', 'j', 'o', 'q', 'r', 'p', 'n', 'l', 'f', 's', 'g', 'h', 'e']\n"
     ]
    }
   ],
   "source": [
    "gibberish = list(\"fqfgsrhrfeqluihjgrshioprqoqeionfvnorfiqeo\")\n",
    "# Find all the unique letters contained in gibberish. Your answer should fit in one line of code\n",
    "unique_letters = list(set(gibberish))\n",
    "print(unique_letters)"
   ]
  },
  {
   "cell_type": "markdown",
   "metadata": {
    "colab_type": "text",
    "id": "P7yBADultRJC"
   },
   "source": [
    "You should now be able to answer the following problem using dictionaries, lists and sets. Imagine you owe money to your friends because your forgot your credit card last time you went out for drinks. You want to remember how much you owe to each of them in order to refund them later. Which data structure would be useful to store this information? Use this data structure and fill it in with some debt data in the cell below:"
   ]
  },
  {
   "cell_type": "code",
   "execution_count": 64,
   "metadata": {
    "colab": {},
    "colab_type": "code",
    "id": "suyHVgJjtRJD"
   },
   "outputs": [],
   "source": [
    "debts = {\"Lucie\": 1, \"Hélène\": 3, \"Dot\": 2, \"Khadija\": 4}"
   ]
  },
  {
   "cell_type": "markdown",
   "metadata": {
    "colab_type": "text",
    "id": "mQQSVcCHtRJI"
   },
   "source": [
    "Another party night with more people, yet you forgot your credit card again... You meet new friends who buy you drinks. Create another data structure as above with different data, i.e. include friends that were not here during the first party and new friends."
   ]
  },
  {
   "cell_type": "code",
   "execution_count": 65,
   "metadata": {
    "colab": {},
    "colab_type": "code",
    "id": "_cjYLMvEtRJK"
   },
   "outputs": [],
   "source": [
    "debts_2 = {\"Lucie\": 1, \"Hélène\": 3, \"Dot\": 2, \"Khadija\": 4, \"Marie\": 1.5, \"Colombe\": 2, \"Raquel\": 3}"
   ]
  },
  {
   "cell_type": "markdown",
   "metadata": {
    "colab_type": "text",
    "id": "Li3vPIN7tRJP"
   },
   "source": [
    "Count the number of new friends you made that second night. Print the name of the friends who bought you drinks during the second party, but not during the first."
   ]
  },
  {
   "cell_type": "code",
   "execution_count": 82,
   "metadata": {
    "colab": {},
    "colab_type": "code",
    "id": "1Rx2ix10tRJQ"
   },
   "outputs": [
    {
     "name": "stdout",
     "output_type": "stream",
     "text": [
      "{'Marie', 'Raquel', 'Colombe'}\n"
     ]
    }
   ],
   "source": [
    "new_friends = set(debts_2) - set(debts) # should fit in one line\n",
    "print(new_friends)\n",
    "nb_new_friends = len(new_friends) # should fit in one line\n",
    "#nb_new_friends"
   ]
  },
  {
   "cell_type": "markdown",
   "metadata": {
    "colab_type": "text",
    "collapsed": true,
    "id": "fRqhthIttRJU"
   },
   "source": [
    "## 3. Control flow\n",
    "Same as before, read the corresponding section, and answer the questions below.\n",
    "You can skip the paragraph on exceptions for now."
   ]
  },
  {
   "cell_type": "code",
   "execution_count": 80,
   "metadata": {
    "colab": {},
    "colab_type": "code",
    "id": "SZIDKiAntRJW"
   },
   "outputs": [
    {
     "name": "stdout",
     "output_type": "stream",
     "text": [
      "Duh...\n"
     ]
    }
   ],
   "source": [
    "# Code the following:\n",
    "# if you have made more than 5 friends that second night, \n",
    "# print \"Yay! I'm super popular!\", else, print \"Duh...\"\n",
    "\n",
    "if nb_new_friends>5:\n",
    "    print(\"Yay! I'm super popular!\")\n",
    "else:\n",
    "    print(\"Duh...\")"
   ]
  },
  {
   "cell_type": "code",
   "execution_count": 83,
   "metadata": {
    "colab": {},
    "colab_type": "code",
    "id": "x1KK30CWtRJa"
   },
   "outputs": [
    {
     "name": "stdout",
     "output_type": "stream",
     "text": [
      "Thanks Marie\n",
      "Thanks Raquel\n",
      "Thanks Colombe\n"
     ]
    }
   ],
   "source": [
    "# Now, thank each new friend iteratively, i.e.\n",
    "# print \"Thanks <name of the friend>!\" using loops and string formatting (cf. section 1)\n",
    "\n",
    "for friend in new_friends:\n",
    "    print(\"Thanks\",friend)"
   ]
  },
  {
   "cell_type": "code",
   "execution_count": 93,
   "metadata": {
    "colab": {},
    "colab_type": "code",
    "id": "iNOfoXTJtRJd"
   },
   "outputs": [
    {
     "name": "stdout",
     "output_type": "stream",
     "text": [
      "120\n"
     ]
    }
   ],
   "source": [
    "# Sum all the number from 0 to 15 (included) using what we've seen so far (i.e. without the function sum() )\n",
    "sum_to_fifteen = 0\n",
    "final_sum=0\n",
    "for sum_to_fifteen in range(16):\n",
    "    final_sum=final_sum+sum_to_fifteen\n",
    "print(final_sum)"
   ]
  },
  {
   "cell_type": "code",
   "execution_count": 128,
   "metadata": {
    "colab": {},
    "colab_type": "code",
    "id": "hNXGkNgitRJh"
   },
   "outputs": [
    {
     "name": "stdout",
     "output_type": "stream",
     "text": [
      "0\n",
      "1\n",
      "2\n"
     ]
    }
   ],
   "source": [
    "# Note: you can break a loop with the break statement\n",
    "for i in range(136):\n",
    "    print (i)\n",
    "    if i >= 2:\n",
    "        break"
   ]
  },
  {
   "cell_type": "code",
   "execution_count": 91,
   "metadata": {
    "colab": {},
    "colab_type": "code",
    "id": "1nZB8pMltRJm"
   },
   "outputs": [
    {
     "name": "stdout",
     "output_type": "stream",
     "text": [
      "a 0\n",
      "b 1\n",
      "c 2\n"
     ]
    }
   ],
   "source": [
    "# enumerate function can be very useful when dealing with iterators:\n",
    "for i, value in enumerate([\"a\", \"b\", \"c\"]):\n",
    "    print(value, i)"
   ]
  },
  {
   "cell_type": "markdown",
   "metadata": {
    "colab_type": "text",
    "id": "rSpPZ8q0tRJq"
   },
   "source": [
    "## 4. Functions\n",
    "Things are becoming more interesting. Read section 4. It's ok if you don't get the args/kwargs part. Be sure to understand basic function declaration and anonymous function declaration. Higher order functions, maps, and filters will be covered during the next lab.\n",
    "\n",
    "Write a Python function that checks whether a passed string is palindrome or not. Note: a palindrome is a word, phrase, or sequence that reads the same backward and forward, e.g. \"madam\" or \"nurses run\". Hint: strings are lists of characters e.g.\n",
    "\n",
    "    a = \"abcdef\"\n",
    "    a[2] => c\n",
    "    \n",
    "If needed, here are [some tips about string manipulation](http://www.pythonforbeginners.com/basics/string-manipulation-in-python)."
   ]
  },
  {
   "cell_type": "code",
   "execution_count": 94,
   "metadata": {
    "colab": {},
    "colab_type": "code",
    "id": "lSa99mbptRJr"
   },
   "outputs": [
    {
     "name": "stdout",
     "output_type": "stream",
     "text": [
      "True\n",
      "True\n",
      "False\n"
     ]
    }
   ],
   "source": [
    "def isPalindrome(string_input):\n",
    "    string_input=string_input.replace(\" \", \"\")\n",
    "    return string_input==string_input[::-1]\n",
    "        \n",
    "\n",
    "print(isPalindrome('aza'))        # Simple palindrome\n",
    "print(isPalindrome('nurses run')) # Palindrome containing a space\n",
    "print(isPalindrome('palindrome')) # Not a palindrome"
   ]
  },
  {
   "cell_type": "markdown",
   "metadata": {
    "colab_type": "text",
    "id": "zB9qsMDJtRJv"
   },
   "source": [
    "Write a Python function to check whether a string is pangram or not. Note: pangrams are words or sentences containing every letter of the alphabet at least once. For example: \"The quick brown fox jumps over the lazy dog\".\n",
    "\n",
    "[Hint](https://docs.python.org/2/library/stdtypes.html#set-types-set-frozenset)"
   ]
  },
  {
   "cell_type": "code",
   "execution_count": 95,
   "metadata": {
    "colab": {},
    "colab_type": "code",
    "id": "klw8o3FDtRJx"
   },
   "outputs": [
    {
     "name": "stdout",
     "output_type": "stream",
     "text": [
      "True\n",
      "False\n"
     ]
    }
   ],
   "source": [
    "import string\n",
    "\n",
    "# In this function, \"alphabet\" argument has a default value: string.ascii_lowercase\n",
    "# string.ascii_lowercase contains all the letters in lowercase.\n",
    "def ispangram(string_input, alphabet=string.ascii_lowercase):  \n",
    "    for char in set(alphabet):\n",
    "        if char not in string_input:\n",
    "            return False\n",
    "    return True\n",
    "   \n",
    "print(ispangram('The quick brown fox jumps over the lazy dog'))\n",
    "print(ispangram('The quick red fox jumps over the lazy dog'))"
   ]
  },
  {
   "cell_type": "markdown",
   "metadata": {
    "colab_type": "text",
    "collapsed": true,
    "id": "hIXo-hJ_tRJ0"
   },
   "source": [
    "### Python lambda expressions\n",
    "\n",
    "When evaluated, lambda expressions return an anonymous function, i.e. a function that is not bound to any variable (hence the \"anonymous\"). However, it is possible to assign the function to a variable. Lambda expressions are particularly useful when you need to pass a simple function into another function. To create lambda functions, we use the following syntax\n",
    "\n",
    "    lambda argument1, argument2, argument3, etc. : body_of_the_function\n",
    "\n",
    "For example, a function which takes a number and returns its square would be\n",
    "\n",
    "    lambda x: x**2\n",
    "    \n",
    "A function that takes two numbers and returns their sum:\n",
    "\n",
    "    lambda x, y: x + y\n",
    "    \n",
    "`lambda` generates a function and returns it, while `def` generates a function and assigns it to a name.  The function returned by `lambda` also automatically returns the value of its expression statement, which reduces the amount of code that needs to be written.\n",
    "\n",
    "Here are some additional references that explain lambdas: [Lambda Functions](http://www.secnetix.de/olli/Python/lambda_functions.hawk), [Lambda Tutorial](https://pythonconquerstheuniverse.wordpress.com/2011/08/29/lambda_tutorial/), and [Python Functions](http://www.bogotobogo.com/python/python_functions_lambda.php).\n",
    "\n",
    "Here is an example:"
   ]
  },
  {
   "cell_type": "code",
   "execution_count": 97,
   "metadata": {
    "colab": {},
    "colab_type": "code",
    "id": "Qag42QL7tRJ1"
   },
   "outputs": [
    {
     "name": "stdout",
     "output_type": "stream",
     "text": [
      "<class 'function'>\n",
      "<function add_s at 0x000001C4F4BA5708>\n",
      "dogs\n"
     ]
    }
   ],
   "source": [
    "# Function declaration using def\n",
    "def add_s(x):\n",
    "    return x + 's'\n",
    "\n",
    "print (type(add_s))\n",
    "print (add_s)\n",
    "print (add_s('dog'))"
   ]
  },
  {
   "cell_type": "code",
   "execution_count": 99,
   "metadata": {
    "colab": {},
    "colab_type": "code",
    "id": "6MVqBJDXtRJ4"
   },
   "outputs": [
    {
     "name": "stdout",
     "output_type": "stream",
     "text": [
      "<class 'function'>\n",
      "<function <lambda> at 0x000001C4F4BA59D8>\n",
      "dogs\n"
     ]
    }
   ],
   "source": [
    "# Same function declared as a lambda\n",
    "add_s_lambda = lambda x: x + 's'\n",
    "print (type(add_s_lambda))\n",
    "print (add_s_lambda)  # Note that the function shows its name as <lambda>\n",
    "print (add_s_lambda('dog'))"
   ]
  },
  {
   "cell_type": "code",
   "execution_count": 101,
   "metadata": {
    "colab": {},
    "colab_type": "code",
    "id": "mOp4Ju79tRJ8"
   },
   "outputs": [
    {
     "name": "stdout",
     "output_type": "stream",
     "text": [
      "10\n",
      "True\n"
     ]
    }
   ],
   "source": [
    "# Code a function using a lambda expression which takes\n",
    "# a number and returns this number multiplied by two.\n",
    "multiply_by_two = lambda x: x*2\n",
    "print (multiply_by_two(5))\n",
    "\n",
    "print(multiply_by_two(10) == 20)"
   ]
  },
  {
   "cell_type": "markdown",
   "metadata": {
    "colab_type": "text",
    "id": "nJlViCP6tRKI"
   },
   "source": [
    "Observe the behavior of the following code:"
   ]
  },
  {
   "cell_type": "code",
   "execution_count": 102,
   "metadata": {
    "colab": {},
    "colab_type": "code",
    "id": "BaBVXHRftRKJ"
   },
   "outputs": [
    {
     "name": "stdout",
     "output_type": "stream",
     "text": [
      "3\n",
      "-1\n"
     ]
    }
   ],
   "source": [
    "def add(x, y):\n",
    "    \"\"\"Add two values\"\"\"\n",
    "    return x+y\n",
    "\n",
    "def sub(x, y):\n",
    "    \"\"\"Substract y from x\"\"\"\n",
    "    return x-y\n",
    "\n",
    "functions = [add, sub]\n",
    "print(functions[0](1, 2))\n",
    "print(functions[1](3, 4))"
   ]
  },
  {
   "cell_type": "markdown",
   "metadata": {
    "colab_type": "text",
    "id": "3ULfcjzvtRKM"
   },
   "source": [
    "Code the same functionality, using lambda expressions:"
   ]
  },
  {
   "cell_type": "code",
   "execution_count": 105,
   "metadata": {
    "colab": {},
    "colab_type": "code",
    "id": "kyrrjXjptRKN"
   },
   "outputs": [
    {
     "name": "stdout",
     "output_type": "stream",
     "text": [
      "True\n",
      "True\n"
     ]
    }
   ],
   "source": [
    "lambda_functions = [lambda x,y:x+y ,  lambda x,y:x-y]\n",
    "\n",
    "print(lambda_functions[0](1, 2) == 3)\n",
    "print(lambda_functions[1](3, 4) == -1)"
   ]
  },
  {
   "cell_type": "markdown",
   "metadata": {
    "colab_type": "text",
    "id": "ED1XVrZxtRKR"
   },
   "source": [
    "Lambda expressions can be used to generate functions that take in zero or more parameters. The syntax for `lambda` allows for multiple ways to define the same function.  For example, we might want to create a function that takes in a single parameter, where the parameter is a tuple consisting of two values, and the function adds the two values.  The syntax could be either \n",
    "\n",
    "    lambda x: x[0] + x[1]\n",
    "    \n",
    "or \n",
    "    \n",
    "    lambda (x, y): x + y\n",
    "\n",
    "If we called either function on the tuple `(1, 2)` it would return `3`."
   ]
  },
  {
   "cell_type": "code",
   "execution_count": 107,
   "metadata": {},
   "outputs": [
    {
     "name": "stdout",
     "output_type": "stream",
     "text": [
      "add_two_1((1,2), (3,4)) = (4, 6)\n",
      "add_two_2((1,2), (3,4)) = (4, 6)\n"
     ]
    }
   ],
   "source": [
    "# Example:\n",
    "add_two_1 = lambda x, y: (x[0] + y[0], x[1] + y[1])\n",
    "add_two_2 = lambda x0, x1, y0, y1: (x0 + y0, x1 + y1)\n",
    "print('add_two_1((1,2), (3,4)) = {0}'.format(add_two_1((1,2), (3,4))))\n",
    "print('add_two_2((1,2), (3,4)) = {0}'.format(add_two_2(1,2, 3,4)))"
   ]
  },
  {
   "cell_type": "code",
   "execution_count": 111,
   "metadata": {
    "colab": {},
    "colab_type": "code",
    "id": "GDn7Z7dstRKV"
   },
   "outputs": [
    {
     "name": "stdout",
     "output_type": "stream",
     "text": [
      "True\n",
      "True\n"
     ]
    }
   ],
   "source": [
    "# Use both syntaxes to create a function that takes in a tuple of three values and reverses their order\n",
    "# E.g. (1, 2, 3) => (3, 2, 1)\n",
    "reverse1 = lambda x: (x[2], x[1], x[0])\n",
    "reverse2 = lambda x0, x1, x2: (x2, x1, x0)\n",
    "\n",
    "print(reverse1((1, 2, 3)) == (3, 2, 1))\n",
    "print(reverse2(1, 2, 3) == (3, 2, 1))"
   ]
  },
  {
   "cell_type": "markdown",
   "metadata": {
    "colab_type": "text",
    "id": "GuRsJH2btRKY"
   },
   "source": [
    "Lambda expressions allow you to reduce the size of your code, but they are limited to simple logic. The following Python keywords refer to statements that cannot be used in a lambda expression: `assert`, `pass`, `del`, `print`, `return`, `yield`, `raise`, `break`, `continue`, `import`, `global`, and `exec`.  Assignment statements (`=`) and augmented assignment statements (e.g. `+=`) cannot be used either. If more complex logic is necessary, use `def` in place of `lambda`."
   ]
  },
  {
   "cell_type": "markdown",
   "metadata": {
    "colab_type": "text",
    "id": "C8oYTUJDtRKZ"
   },
   "source": [
    "## 5. Classes\n",
    "Classes allow you to create objects. Object Oriented Programming (OOP) can be a very powerful paradigm. If done well, OOP  allows you to improve the modularity and reusability of your code, but that's the subject of an entire other course. \n",
    "Here is a *very* short introduction to it.\n",
    "\n",
    "By convention, class names are written in camel case, e.g. `MyBeautifulClass`, while variable and function names are written in snake case, e.g. `my_variable`, `my_very_complex_function`\n",
    "\n",
    "Classes contain methods (i.e. functions owned by the class) and attributes (i.e. variables owned by the class). \n",
    "When you define a class, first thing to do is to define a specific method, the constructor. In Python, the constructor is called `__init__`. This method is used to create the instances of an object. Example:\n",
    "\n",
    "    class MyClass:\n",
    "    \n",
    "        def __init__(self, first_attribute, second_attribute):\n",
    "            self.first_attribute = first_attribute\n",
    "            self.second_attribute = second_attribute\n",
    "            \n",
    "This class has two attributes, and one (hidden) method, the constructor. To create an instance of this class, one simply does:\n",
    "\n",
    "    instance_example = MyClass(1, \"foo\")\n",
    "    \n",
    "Then, the attributes can easily be accessed to:\n",
    "\n",
    "    instance_example.first_attribute  # => 1\n",
    "    instance_example.first_attribute  # => \"foo\""
   ]
  },
  {
   "cell_type": "code",
   "execution_count": 112,
   "metadata": {
    "colab": {},
    "colab_type": "code",
    "id": "keBR9vgQtRKc"
   },
   "outputs": [
    {
     "name": "stdout",
     "output_type": "stream",
     "text": [
      "1\n",
      "3\n"
     ]
    }
   ],
   "source": [
    "# Run this example\n",
    "class MyClass:\n",
    "    \n",
    "    def __init__(self, first_attribute, second_attribute):\n",
    "        self.first_attribute = first_attribute\n",
    "        self.second_attribute = second_attribute\n",
    "            \n",
    "instance_example = MyClass(1, \"foo\") \n",
    "print(instance_example.first_attribute)\n",
    "instance_example.__init__(3,4)  # In real life, it is rare to reinit an object.\n",
    "print(instance_example.first_attribute)"
   ]
  },
  {
   "cell_type": "markdown",
   "metadata": {
    "colab_type": "text",
    "id": "8AO18Rz7tRKf"
   },
   "source": [
    "`self` denotes the object itself. When you declare a method, you have to pass `self` as the first argument of the method:\n",
    "\n",
    "class MyClass:\n",
    "    \n",
    "    def __init__(self, first_attribute, second_attribute):\n",
    "        self.first_attribute = first_attribute\n",
    "        self.second_attribute = second_attribute\n",
    "   \n",
    "    def method_baz(self):\n",
    "        print \"Hello! I'm a method! I have two attributes, initialized with values %s, %s\"%(self.first_attribute, self.second_attribute)\n",
    "        \n",
    "indeed, when we call\n",
    "    \n",
    "    instance_example = MyClass(1, \"foo\") \n",
    "    instance_example.method_baz()\n",
    "    \n",
    "the `self` object is implicitely passed to `method_baz`as an argument. Think of the method call as the following function call\n",
    "\n",
    "    method_baz(instance_example)"
   ]
  },
  {
   "cell_type": "code",
   "execution_count": 113,
   "metadata": {
    "colab": {},
    "colab_type": "code",
    "id": "oZde0pPntRKg"
   },
   "outputs": [
    {
     "name": "stdout",
     "output_type": "stream",
     "text": [
      "Hello! I'm a method! My class has two attributes, of value 1, foo\n"
     ]
    }
   ],
   "source": [
    "# Run this example\n",
    "class MyClass:\n",
    "    \n",
    "    def __init__(self, first_attribute, second_attribute):\n",
    "        self.first_attribute = first_attribute\n",
    "        self.second_attribute = second_attribute\n",
    "    \n",
    "    def class_method(self):\n",
    "        print(\"Hello! I'm a method! My class has two attributes, of value {0}, {1}\".format(self.first_attribute, self.second_attribute))\n",
    "            \n",
    "instance_example = MyClass(1, \"foo\") \n",
    "# Call to a class method\n",
    "instance_example.class_method()"
   ]
  },
  {
   "cell_type": "markdown",
   "metadata": {
    "colab_type": "text",
    "id": "fLUmPnKntRKo"
   },
   "source": [
    "Now, the tricky part. You can declare **static** methods, i.e. methods that don't need to access the data contained in `self` to work properly. Such methods do not require the `self` argument as they do not use any instance data. They are implemented in the following way:"
   ]
  },
  {
   "cell_type": "code",
   "execution_count": 114,
   "metadata": {
    "colab": {},
    "colab_type": "code",
    "id": "ZfkEAQbGtRKp"
   },
   "outputs": [
    {
     "name": "stdout",
     "output_type": "stream",
     "text": [
      "Hello! I'm a method! My class has two attributes, of value 1, foo\n",
      "I'm a static method!\n"
     ]
    }
   ],
   "source": [
    "# Run this example\n",
    "class MyClass:\n",
    "    \n",
    "    def __init__(self, first_attribute, second_attribute):\n",
    "        self.first_attribute = first_attribute\n",
    "        self.second_attribute = second_attribute\n",
    "    \n",
    "    def class_method(self):\n",
    "        print(\"Hello! I'm a method! My class has two attributes, of value {0}, {1}\".format(self.first_attribute, self.second_attribute))\n",
    "         \n",
    "    @staticmethod\n",
    "    def static_method():\n",
    "        print(\"I'm a static method!\")\n",
    "            \n",
    "instance_example = MyClass(1, \"foo\") \n",
    "# Call to a class method\n",
    "instance_example.class_method()\n",
    "# Call to a static method\n",
    "instance_example.static_method()"
   ]
  },
  {
   "cell_type": "code",
   "execution_count": 115,
   "metadata": {
    "colab": {},
    "colab_type": "code",
    "id": "kjsCfutptRKu"
   },
   "outputs": [
    {
     "name": "stdout",
     "output_type": "stream",
     "text": [
      "I'm a static method!\n"
     ]
    }
   ],
   "source": [
    "# Call to a static method without class instanciation\n",
    "MyClass.static_method()"
   ]
  },
  {
   "cell_type": "code",
   "execution_count": 116,
   "metadata": {
    "colab": {},
    "colab_type": "code",
    "id": "WjIceCletRKy"
   },
   "outputs": [],
   "source": [
    "# Call to a class method without class instanciation: raises an error\n",
    "# MyClass.class_method()\n",
    "# => TypeError: unbound method class_method() must be called with MyClass instance as first argument (got nothing instead)"
   ]
  },
  {
   "cell_type": "markdown",
   "metadata": {
    "colab_type": "text",
    "id": "WrGtoiEptRK1"
   },
   "source": [
    "You can set attributes without passing them to the constructor:"
   ]
  },
  {
   "cell_type": "code",
   "execution_count": 118,
   "metadata": {
    "colab": {},
    "colab_type": "code",
    "id": "1EtLi3gRtRK2"
   },
   "outputs": [
    {
     "name": "stdout",
     "output_type": "stream",
     "text": [
      "42\n"
     ]
    }
   ],
   "source": [
    "# Run this example\n",
    "class MyClass:\n",
    "    \n",
    "    default_attribute = 42\n",
    "    \n",
    "    def __init__(self, first_attribute, second_attribute):\n",
    "        self.first_attribute = first_attribute\n",
    "        self.second_attribute = second_attribute\n",
    "    \n",
    "    def method_baz(self):\n",
    "        print(\"Hello! I'm a method! I have two attributes, initialized with values %s, %s\"%(self.first_attribute, self.second_attribute))\n",
    "        \n",
    "    @staticmethod\n",
    "    def static_method():\n",
    "        print(\"I'm a static method!\")\n",
    "            \n",
    "instance_example = MyClass(1, \"foo\") \n",
    "print(instance_example.default_attribute)"
   ]
  },
  {
   "cell_type": "code",
   "execution_count": 8,
   "metadata": {
    "colab": {},
    "colab_type": "code",
    "id": "9f2LfrfEtRK6"
   },
   "outputs": [
    {
     "name": "stdout",
     "output_type": "stream",
     "text": [
      "True\n",
      "True\n",
      "True\n",
      "True\n",
      "Do you like rectangles?\n",
      "Do you like rectangles?\n",
      "10\n",
      "12\n"
     ]
    }
   ],
   "source": [
    "# Write a Python class named Rectangle which is constructed by a length and width and has two class methods\n",
    "# - \"rectange_area\", which computes the area of a rectangle.\n",
    "# - \"rectangle_perimeter\", which computes the perimeter of a rectangle.\n",
    "#\n",
    "# The Rectangle class should have an attribute n_edges equal to 4\n",
    "# which should not be initialized by the __init__ constructor.\n",
    "#\n",
    "# Declare a static method \"talk\" that returns \"Do you like rectangles?\" when called\n",
    "\n",
    "class Rectangle:\n",
    "\n",
    "    n_edges=4\n",
    "\n",
    "    def __init__(self, length, width):\n",
    "        self.length = length\n",
    "        self.width = width\n",
    "        \n",
    "    def rectangle_area(self):\n",
    "        return self.length*self.width\n",
    "\n",
    "    def rectangle_perimeter(self):\n",
    "        return 2*self.length + 2*self.width\n",
    "    \n",
    "    @staticmethod\n",
    "    def talk():\n",
    "        return \"Do you like rectangles?\"\n",
    "    \n",
    "\n",
    "\n",
    "new_rectangle = Rectangle(12, 10)\n",
    "print(new_rectangle.rectangle_area() == 120)# rectangle_area method\n",
    "print(new_rectangle.rectangle_perimeter() == 44) # rectangle_area method\n",
    "print(Rectangle.n_edges == 4) # constant attibute\n",
    "print(new_rectangle.n_edges == 4) # constant attibute\n",
    "print(Rectangle.talk()) # Rectangle talk static method\n",
    "print(new_rectangle.talk()) # Rectangle talk static method\n",
    "print(new_rectangle.width)\n",
    "print(new_rectangle.length)"
   ]
  },
  {
   "cell_type": "raw",
   "metadata": {},
   "source": [
    "# In machine learning, when you're manipulating large images, you often need to break the diwn into smaller, more manageable images.\n",
    "- Modify the previous rectangle class to include a list of patches.\n",
    "- Write a Python class named Patch which is a square of size 1x1. Each patch should be identified by his coordinates.\n",
    "- Use the [\\_\\_iter\\_\\_](https://www.datacamp.com/community/tutorials/python-iterator-tutorial) function to create a get_next_patch() in the Rectangle class."
   ]
  },
  {
   "cell_type": "code",
   "execution_count": 29,
   "metadata": {},
   "outputs": [
    {
     "name": "stdout",
     "output_type": "stream",
     "text": [
      "(1, 0)\n",
      "(2, 0)\n",
      "(3, 0)\n",
      "(4, 0)\n",
      "(5, 0)\n",
      "(6, 0)\n",
      "(7, 0)\n",
      "(8, 0)\n",
      "(9, 0)\n",
      "(0, 1)\n",
      "(1, 1)\n",
      "(2, 1)\n",
      "(3, 1)\n",
      "(4, 1)\n",
      "(5, 1)\n",
      "(6, 1)\n",
      "(7, 1)\n",
      "(8, 1)\n",
      "(9, 1)\n",
      "(0, 2)\n",
      "(1, 2)\n",
      "(2, 2)\n",
      "(3, 2)\n",
      "(4, 2)\n",
      "(5, 2)\n",
      "(6, 2)\n",
      "(7, 2)\n",
      "(8, 2)\n",
      "(9, 2)\n",
      "(0, 3)\n",
      "(1, 3)\n",
      "(2, 3)\n",
      "(3, 3)\n",
      "(4, 3)\n",
      "(5, 3)\n",
      "(6, 3)\n",
      "(7, 3)\n",
      "(8, 3)\n",
      "(9, 3)\n",
      "(0, 4)\n",
      "(1, 4)\n",
      "(2, 4)\n",
      "(3, 4)\n",
      "(4, 4)\n",
      "(5, 4)\n",
      "(6, 4)\n",
      "(7, 4)\n",
      "(8, 4)\n",
      "(9, 4)\n",
      "(0, 5)\n",
      "(1, 5)\n",
      "(2, 5)\n",
      "(3, 5)\n",
      "(4, 5)\n",
      "(5, 5)\n",
      "(6, 5)\n",
      "(7, 5)\n",
      "(8, 5)\n",
      "(9, 5)\n",
      "(0, 6)\n",
      "(1, 6)\n",
      "(2, 6)\n",
      "(3, 6)\n",
      "(4, 6)\n",
      "(5, 6)\n",
      "(6, 6)\n",
      "(7, 6)\n",
      "(8, 6)\n",
      "(9, 6)\n",
      "(0, 7)\n",
      "(1, 7)\n",
      "(2, 7)\n",
      "(3, 7)\n",
      "(4, 7)\n",
      "(5, 7)\n",
      "(6, 7)\n",
      "(7, 7)\n",
      "(8, 7)\n",
      "(9, 7)\n",
      "(0, 8)\n",
      "(1, 8)\n",
      "(2, 8)\n",
      "(3, 8)\n",
      "(4, 8)\n",
      "(5, 8)\n",
      "(6, 8)\n",
      "(7, 8)\n",
      "(8, 8)\n",
      "(9, 8)\n",
      "(0, 9)\n",
      "(1, 9)\n",
      "(2, 9)\n",
      "(3, 9)\n",
      "(4, 9)\n",
      "(5, 9)\n",
      "(6, 9)\n",
      "(7, 9)\n",
      "(8, 9)\n",
      "(9, 9)\n",
      "(0, 10)\n",
      "(1, 10)\n",
      "(2, 10)\n",
      "(3, 10)\n",
      "(4, 10)\n",
      "(5, 10)\n",
      "(6, 10)\n",
      "(7, 10)\n",
      "(8, 10)\n",
      "(9, 10)\n",
      "(0, 11)\n",
      "(1, 11)\n",
      "(2, 11)\n",
      "(3, 11)\n",
      "(4, 11)\n",
      "(5, 11)\n",
      "(6, 11)\n",
      "(7, 11)\n",
      "(8, 11)\n",
      "(9, 11)\n",
      "end 119\n"
     ]
    }
   ],
   "source": [
    "class Rectangle:\n",
    "    n_edges=4\n",
    "    \n",
    "    def __init__(self, length, width):\n",
    "        self.length = length\n",
    "        self.width = width\n",
    "        \n",
    "    def rectangle_area(self):\n",
    "        return self.length*self.width\n",
    "    \n",
    "    def rectangle_perimeter(self):\n",
    "        return 2*self.length + 2*self.width\n",
    "    \n",
    "    @staticmethod\n",
    "    def talk():\n",
    "        return \"Do you like rectangles?\"\n",
    "\n",
    "class Patch:\n",
    "    n_edges=4\n",
    "    \n",
    "    def __init__(self,rectangle):\n",
    "        self.length = 1\n",
    "        self.abs_max=rectangle.width\n",
    "        self.ord_max=rectangle.length\n",
    "    \n",
    "    \n",
    "    def __iter__(self):\n",
    "        self.absi=1\n",
    "        self.ordi=1\n",
    "        return self\n",
    "    \n",
    "    def __next__(self):\n",
    "        \n",
    "        \n",
    "        if self.absi+1<=self.abs_max:\n",
    "            self.absi+=1\n",
    "        elif self.absi+1>self.abs_max:\n",
    "            self.absi=1\n",
    "            if self.ordi+1<=self.ord_max:\n",
    "                self.ordi+=1\n",
    "            elif self.ordi+1>self.ord_max:\n",
    "                raise StopIteration\n",
    "        return(self.absi-1,self.ordi-1)\n",
    "            \n",
    "        \n",
    "        \n",
    "#        while self.ordi<=self.ord_max:\n",
    "#            while  self.absi<=self.abs_max:\n",
    "#                self.absi+=1\n",
    "#            self.ordi+=1\n",
    "#        return\n",
    "        \n",
    "#        if self.absi+1>self.abs_max:\n",
    "#            if self.ordi+1>self.ord_max:\n",
    "#                raise StopIteration\n",
    "#            else:\n",
    "#                self.ordi+=1\n",
    "#        else:\n",
    "#            self.absi+=1\n",
    "#        return(self.absi,self.ordi)\n",
    "        \n",
    "patchi=Patch(new_rectangle)\n",
    "decompo=iter(patchi)\n",
    "i=0\n",
    "try:\n",
    "    while True:\n",
    "        print(next(decompo))\n",
    "        i+=1\n",
    "except:\n",
    "    print(\"end\",i)\n",
    "\n",
    "#rectangle = ???\n",
    "\n",
    "#for patch in rectangle :\n",
    "#    print(patch)\n",
    "    \n",
    "# should print all the patches in your rectangle"
   ]
  },
  {
   "cell_type": "markdown",
   "metadata": {
    "colab": {},
    "colab_type": "code",
    "id": "zLo1690Jw0au"
   },
   "source": [
    "Use the same approach to create two classes :\n",
    "- Sentence which is a list of words\n",
    "- Word which encapsulate a string with a specific order within the sentence\n",
    "Implement both [\\_\\_str\\_\\_](https://docs.python.org/3/reference/datamodel.html?highlight=__str__#object.__str__) and [\\_\\_repr\\_\\_](https://docs.python.org/3/reference/datamodel.html?highlight=__str__#object.__repr__) for both classes. `__str__` should be readable when `__repr__` should offer you information to helps you debug.\n",
    "In Natural Language Processing you'll use a lot of n-grams (which is the set of *n* sequential words). So you should implement a get_next_bigrams() method in the Sentence class. For instance give the sentence \"My name is Brian\", it should return an element of the list of bigrams ```[\"My name\", \"name is\", \"is Brian\"]```"
   ]
  },
  {
   "cell_type": "code",
   "execution_count": null,
   "metadata": {},
   "outputs": [],
   "source": [
    "class Sentence :\n",
    "    \n",
    "    def __init__(self,string_sentence):\n",
    "        self.list_words=string_sentence.split(\" \")\n",
    "        self.n_words=len(self.list_words)\n",
    "        \n",
    "    ???\n",
    "\n",
    "class Word :\n",
    "    ???"
   ]
  },
  {
   "cell_type": "markdown",
   "metadata": {
    "colab": {},
    "colab_type": "code",
    "id": "9ZJc_Iu_tRLC"
   },
   "source": [
    "# 6. Modules\n",
    "Finally one really important part of python is the ability to create modules.\n",
    "Read https://docs.python.org/fr/3/tutorial/modules.html and create a module named geo with the classes Rectangle & Patch.\n",
    "Import the ```geo``` module and demonstrate the different calls.\n",
    "\n",
    "Repeat the operation with an ```NLP``` module to encapsulate the classes Sentence and Word.\n",
    "In Natural Language Processing you'll use a lot of n-grams (which is the set of *n* sequential words). So you should implement a ```get_bigrams(sentence)``` method who will return a list of bigrams."
   ]
  },
  {
   "cell_type": "code",
   "execution_count": 7,
   "metadata": {},
   "outputs": [
    {
     "ename": "NameError",
     "evalue": "name 'Rectangle' is not defined",
     "output_type": "error",
     "traceback": [
      "\u001b[1;31m---------------------------------------------------------------------------\u001b[0m",
      "\u001b[1;31mNameError\u001b[0m                                 Traceback (most recent call last)",
      "\u001b[1;32m<ipython-input-7-50565f3696e7>\u001b[0m in \u001b[0;36m<module>\u001b[1;34m\u001b[0m\n\u001b[0;32m      1\u001b[0m \u001b[1;32mimport\u001b[0m \u001b[0mgeo\u001b[0m\u001b[1;33m\u001b[0m\u001b[1;33m\u001b[0m\u001b[0m\n\u001b[0;32m      2\u001b[0m \u001b[1;33m\u001b[0m\u001b[0m\n\u001b[1;32m----> 3\u001b[1;33m \u001b[0mrectangle\u001b[0m \u001b[1;33m=\u001b[0m \u001b[0mRectangle\u001b[0m\u001b[1;33m(\u001b[0m\u001b[1;36m5\u001b[0m\u001b[1;33m,\u001b[0m\u001b[1;36m4\u001b[0m\u001b[1;33m)\u001b[0m\u001b[1;33m\u001b[0m\u001b[1;33m\u001b[0m\u001b[0m\n\u001b[0m\u001b[0;32m      4\u001b[0m \u001b[0mpatch\u001b[0m \u001b[1;33m=\u001b[0m \u001b[0mPatch\u001b[0m\u001b[1;33m(\u001b[0m\u001b[0mrectangle\u001b[0m\u001b[1;33m)\u001b[0m\u001b[1;33m\u001b[0m\u001b[1;33m\u001b[0m\u001b[0m\n\u001b[0;32m      5\u001b[0m \u001b[1;33m\u001b[0m\u001b[0m\n",
      "\u001b[1;31mNameError\u001b[0m: name 'Rectangle' is not defined"
     ]
    }
   ],
   "source": [
    "import geo\n",
    "\n",
    "rectangle = Rectangle(5,4)\n",
    "patch = Patch(rectangle)"
   ]
  },
  {
   "cell_type": "code",
   "execution_count": null,
   "metadata": {},
   "outputs": [],
   "source": [
    "import nlp\n",
    "\n",
    "def get_next_bigrams(sentence) = \n",
    "    ???\n",
    "\n",
    "test_sentence = Sentence(\"My name is Brian\")\n",
    "\n"
   ]
  },
  {
   "cell_type": "markdown",
   "metadata": {},
   "source": [
    "# 7. Coding style\n",
    "\n",
    "You'll often ask yourself about which letters should be capital or if you should use _ or other characters.\n",
    "\n",
    "To help you decide, python comes with PEP-8 which is a set of recommandation.\n",
    "\n",
    "It is highly advised to read PEP-8 and to apply the rules whenever it's applicable.\n",
    "\n",
    "You'll get point for style in your code (I mean, you will lose points if the code is not readable).\n",
    "\n",
    "Fortunately, [the rules of PEP-8 are not perfect and should not always be followed](https://www.youtube.com/watch?v=wf-BqAjZb8M)."
   ]
  },
  {
   "cell_type": "code",
   "execution_count": null,
   "metadata": {},
   "outputs": [],
   "source": [
    "# You should create a github account before the next session :\n",
    "student_1_github_login = romaneslr\n",
    "student_2_github_login = ???"
   ]
  },
  {
   "cell_type": "markdown",
   "metadata": {
    "colab_type": "text",
    "id": "m5UTrCzjtRLF"
   },
   "source": [
    "Congratulations, you've reched the end of this notebook. =)"
   ]
  }
 ],
 "metadata": {
  "colab": {
   "collapsed_sections": [
    "rSpPZ8q0tRJq",
    "hIXo-hJ_tRJ0"
   ],
   "name": "1-python.ipynb",
   "provenance": []
  },
  "kernelspec": {
   "display_name": "Python 3",
   "language": "python",
   "name": "python3"
  },
  "language_info": {
   "codemirror_mode": {
    "name": "ipython",
    "version": 3
   },
   "file_extension": ".py",
   "mimetype": "text/x-python",
   "name": "python",
   "nbconvert_exporter": "python",
   "pygments_lexer": "ipython3",
   "version": "3.7.6"
  },
  "name": "1-python",
  "notebookId": 3047179637077656
 },
 "nbformat": 4,
 "nbformat_minor": 1
}
